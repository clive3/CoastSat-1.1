{
 "cells": [
  {
   "cell_type": "markdown",
   "id": "difficult-liabilities",
   "metadata": {},
   "source": [
    "## imports"
   ]
  },
  {
   "cell_type": "code",
   "execution_count": 68,
   "id": "olympic-religious",
   "metadata": {},
   "outputs": [],
   "source": [
    "from shapely import geometry\n",
    "from osgeo import ogr\n",
    "\n",
    "from utils.print_utils import printProgress, printSuccess, printWarning\n",
    "        \n",
    "# directory where the data will be accessed and stored\n",
    "data_partition = 'c:\\\\data\\\\'\n",
    "country = 'cco'\n",
    "base_dir_path = os.path.join(data_partition, country)  \n",
    "sites_dir_path = os.path.join(base_dir_path, 'sites')\n",
    "results_dir_path = os.path.join(base_dir_path, 'regions')\n",
    "sites = os.listdir(sites_dir_path)"
   ]
  },
  {
   "cell_type": "markdown",
   "id": "resident-battlefield",
   "metadata": {},
   "source": [
    "## functions"
   ]
  },
  {
   "cell_type": "code",
   "execution_count": 78,
   "id": "valid-moldova",
   "metadata": {},
   "outputs": [],
   "source": [
    "def polygon_from_kml(fn):\n",
    "\n",
    "    # read .kml file\n",
    "    with open(fn) as kmlFile:\n",
    "        doc = kmlFile.read()\n",
    "        # parse to find coordinates field\n",
    "    str1 = '<coordinates>'\n",
    "    str2 = '</coordinates>'\n",
    "    subdoc = doc[doc.find(str1) + len(str1):doc.find(str2)]\n",
    "    \n",
    "    coordlist = subdoc.split(',')\n",
    "\n",
    "    polygon = []\n",
    "    for coord_pair in range(int(len(coordlist) / 2)):\n",
    "        lat = float(coordlist[coord_pair * 2].replace('0 ', ''))\n",
    "        lon = float(coordlist[coord_pair * 2 + 1].replace('0 ', ''))\n",
    "        polygon.append([lat, lon])\n",
    "\n",
    "    return polygon\n",
    "\n",
    "\n",
    "def smallest_rectangle(polygon):\n",
    "    \n",
    "    multipoints = geometry.Polygon(polygon)\n",
    "    polygon_geom = multipoints.envelope\n",
    "    coords_polygon = np.array(polygon_geom.exterior.coords)\n",
    "    polygon_rect = [[_[0], _[1]] for _ in coords_polygon]\n",
    "    \n",
    "    return polygon_rect\n",
    "\n",
    "\n",
    "def poly2wkt(polygon):\n",
    "    # Create ring\n",
    "    ring = ogr.Geometry(ogr.wkbLinearRing)\n",
    "    \n",
    "    for pt in polygon:\n",
    "        ring.AddPoint(pt[0], pt[1])\n",
    "\n",
    "    # Create polygon\n",
    "    poly = ogr.Geometry(ogr.wkbPolygon)\n",
    "    poly.AddGeometry(ring)\n",
    "\n",
    "#    print(poly.ExportToWkt())\n",
    "#    print (poly.ExportToJson())\n",
    "\n",
    "    polygon_str = str(poly.ExportToWkt())\n",
    "    print(f'{polygon_str:.2f}')\n",
    "    \n",
    "def wkt2shp(wkt_list, shp_file):\n",
    "\n",
    "    # Define a linestring feature geometry with one attribute\n",
    "    schema = {\n",
    "        'geometry': 'LineString',\n",
    "        'properties': {'id': 'int'},\n",
    "    }\n",
    "\n",
    "    # Write a new shapefile\n",
    "    with fiona.open(shp_file, 'w', 'ESRI Shapefile', schema) as c:\n",
    "        for i, line in enumerate(wkt_list):\n",
    "            shape = shapely.wkt.loads(line)\n",
    "            c.write({\n",
    "                    'geometry': mapping(shape),\n",
    "                    'properties': {'id': i},\n",
    "                    })\n",
    "\n",
    "    return"
   ]
  },
  {
   "cell_type": "markdown",
   "id": "superior-newman",
   "metadata": {},
   "source": [
    "## run the code"
   ]
  },
  {
   "cell_type": "code",
   "execution_count": 79,
   "id": "neutral-kazakhstan",
   "metadata": {},
   "outputs": [
    {
     "name": "stdout",
     "output_type": "stream",
     "text": [
      "processing: chichester_full\n"
     ]
    },
    {
     "ename": "ValueError",
     "evalue": "Unknown format code 'f' for object of type 'str'",
     "output_type": "error",
     "traceback": [
      "\u001b[1;31m---------------------------------------------------------------------------\u001b[0m",
      "\u001b[1;31mValueError\u001b[0m                                Traceback (most recent call last)",
      "\u001b[1;32m<ipython-input-79-82aa3e86709a>\u001b[0m in \u001b[0;36m<module>\u001b[1;34m\u001b[0m\n\u001b[0;32m     10\u001b[0m     \u001b[0mroi_polygon\u001b[0m \u001b[1;33m=\u001b[0m \u001b[0msmallest_rectangle\u001b[0m\u001b[1;33m(\u001b[0m\u001b[0mkml_polygon\u001b[0m\u001b[1;33m)\u001b[0m\u001b[1;33m\u001b[0m\u001b[1;33m\u001b[0m\u001b[0m\n\u001b[0;32m     11\u001b[0m \u001b[1;33m\u001b[0m\u001b[0m\n\u001b[1;32m---> 12\u001b[1;33m     \u001b[0mpoly2wkt\u001b[0m\u001b[1;33m(\u001b[0m\u001b[0mroi_polygon\u001b[0m\u001b[1;33m)\u001b[0m\u001b[1;33m\u001b[0m\u001b[1;33m\u001b[0m\u001b[0m\n\u001b[0m\u001b[0;32m     13\u001b[0m \u001b[1;33m\u001b[0m\u001b[0m\n\u001b[0;32m     14\u001b[0m \u001b[0mprint\u001b[0m\u001b[1;33m(\u001b[0m\u001b[1;34m'FINISHED ...'\u001b[0m\u001b[1;33m)\u001b[0m\u001b[1;33m\u001b[0m\u001b[1;33m\u001b[0m\u001b[0m\n",
      "\u001b[1;32m<ipython-input-78-a44f29925e32>\u001b[0m in \u001b[0;36mpoly2wkt\u001b[1;34m(polygon)\u001b[0m\n\u001b[0;32m     45\u001b[0m \u001b[1;33m\u001b[0m\u001b[0m\n\u001b[0;32m     46\u001b[0m     \u001b[0mpolygon_str\u001b[0m \u001b[1;33m=\u001b[0m \u001b[0mstr\u001b[0m\u001b[1;33m(\u001b[0m\u001b[0mpoly\u001b[0m\u001b[1;33m.\u001b[0m\u001b[0mExportToWkt\u001b[0m\u001b[1;33m(\u001b[0m\u001b[1;33m)\u001b[0m\u001b[1;33m)\u001b[0m\u001b[1;33m\u001b[0m\u001b[1;33m\u001b[0m\u001b[0m\n\u001b[1;32m---> 47\u001b[1;33m     \u001b[0mprint\u001b[0m\u001b[1;33m(\u001b[0m\u001b[1;34mf'{polygon_str:.2f}'\u001b[0m\u001b[1;33m)\u001b[0m\u001b[1;33m\u001b[0m\u001b[1;33m\u001b[0m\u001b[0m\n\u001b[0m",
      "\u001b[1;31mValueError\u001b[0m: Unknown format code 'f' for object of type 'str'"
     ]
    }
   ],
   "source": [
    "for site in sites:\n",
    "    \n",
    "    site_name = site[:site.find('.')]\n",
    "    \n",
    "    print(f'processing: {site_name}')\n",
    "        \n",
    "    kml_filepath = os.path.join(sites_dir_path, site)\n",
    "    kml_polygon = polygon_from_kml(kml_filepath)\n",
    "    \n",
    "    roi_polygon = smallest_rectangle(kml_polygon)\n",
    "\n",
    "    poly2wkt(roi_polygon)\n",
    "            \n",
    "print('FINISHED ...')"
   ]
  },
  {
   "cell_type": "code",
   "execution_count": null,
   "id": "congressional-enterprise",
   "metadata": {},
   "outputs": [],
   "source": []
  },
  {
   "cell_type": "code",
   "execution_count": null,
   "id": "opening-perry",
   "metadata": {},
   "outputs": [],
   "source": []
  }
 ],
 "metadata": {
  "kernelspec": {
   "display_name": "Python 3",
   "language": "python",
   "name": "python3"
  },
  "language_info": {
   "codemirror_mode": {
    "name": "ipython",
    "version": 3
   },
   "file_extension": ".py",
   "mimetype": "text/x-python",
   "name": "python",
   "nbconvert_exporter": "python",
   "pygments_lexer": "ipython3",
   "version": "3.7.9"
  }
 },
 "nbformat": 4,
 "nbformat_minor": 5
}
