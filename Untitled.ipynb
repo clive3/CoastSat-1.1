{
 "cells": [
  {
   "cell_type": "code",
   "execution_count": 10,
   "id": "brazilian-titanium",
   "metadata": {},
   "outputs": [],
   "source": [
    "import coastsat.xmlformatter as xmlf"
   ]
  },
  {
   "cell_type": "code",
   "execution_count": 14,
   "id": "alert-instruction",
   "metadata": {},
   "outputs": [
    {
     "data": {
      "text/plain": [
       "b'<?xml version=\"1.0\" encoding=\"ISO-8859-1\"?>\\n<kml xmlns=\"http://www.opengis.net/kml/2.2\" xmlns:atom=\"http://www.w3.org/2005/Atom\" xmlns:gx=\"http://www.google.com/kml/ext/2.2\" xmlns:kml=\"http://www.opengis.net/kml/2.2\">\\n\\t<Document>\\n\\t\\t<name>test_area2.kml</name>\\n\\t\\t<Style id=\"s_ylw-pushpin_hl\">\\n\\t\\t\\t<IconStyle>\\n\\t\\t\\t\\t<scale>1.3</scale>\\n\\t\\t\\t\\t<Icon>\\n\\t\\t\\t\\t\\t<href>http://maps.google.com/mapfiles/kml/pushpin/ylw-pushpin.png</href>\\n\\t\\t\\t\\t</Icon>\\n\\t\\t\\t\\t<hotSpot x=\"20\" xunits=\"pixels\" y=\"2\" yunits=\"pixels\"></hotSpot>\\n\\t\\t\\t</IconStyle>\\n\\t\\t</Style>\\n\\t\\t<Style id=\"s_ylw-pushpin\">\\n\\t\\t\\t<IconStyle>\\n\\t\\t\\t\\t<scale>1.1</scale>\\n\\t\\t\\t\\t<Icon>\\n\\t\\t\\t\\t\\t<href>http://maps.google.com/mapfiles/kml/pushpin/ylw-pushpin.png</href>\\n\\t\\t\\t\\t</Icon>\\n\\t\\t\\t\\t<hotSpot x=\"20\" xunits=\"pixels\" y=\"2\" yunits=\"pixels\"></hotSpot>\\n\\t\\t\\t</IconStyle>\\n\\t\\t</Style>\\n\\t\\t<StyleMap id=\"m_ylw-pushpin\">\\n\\t\\t\\t<Pair>\\n\\t\\t\\t\\t<key>normal</key>\\n\\t\\t\\t\\t<styleUrl>#s_ylw-pushpin</styleUrl>\\n\\t\\t\\t</Pair>\\n\\t\\t\\t<Pair>\\n\\t\\t\\t\\t<key>highlight</key>\\n\\t\\t\\t\\t<styleUrl>#s_ylw-pushpin_hl</styleUrl>\\n\\t\\t\\t</Pair>\\n\\t\\t</StyleMap>\\n\\t\\t<Placemark>\\n\\t\\t\\t<name>test_area2</name>\\n\\t\\t\\t<styleUrl>#m_ylw-pushpin</styleUrl>\\n\\t\\t\\t<Polygon>\\n\\t\\t\\t\\t<tessellate>1</tessellate>\\n\\t\\t\\t\\t<outerBoundaryIs>\\n\\t\\t\\t\\t\\t<LinearRing>\\n\\t\\t\\t\\t\\t\\t<coordinates>-61.15365726816378,13.15717771255377,0 -61.14264880835298,13.15201506811193,0 -61.13632659569868,13.16905139618548,0 -61.14805956074875,13.17278424428066,0 -61.15365726816378,13.15717771255377,0</coordinates>\\n\\t\\t\\t\\t\\t</LinearRing>\\n\\t\\t\\t\\t</outerBoundaryIs>\\n\\t\\t\\t</Polygon>\\n\\t\\t</Placemark>\\n\\t</Document>\\n</kml>'"
      ]
     },
     "execution_count": 14,
     "metadata": {},
     "output_type": "execute_result"
    }
   ],
   "source": [
    "formatter = xmlf.Formatter(indent=\"1\", indent_char=\"\\t\", encoding_output=\"ISO-8859-1\",\n",
    "                           preserve=[\"literal\"])\n",
    "formatter.format_file('C:\\\\code\\\\CoastSat-1.1\\\\classification\\\\training_sites_archive\\\\airport.xml')"
   ]
  },
  {
   "cell_type": "code",
   "execution_count": null,
   "id": "signal-casting",
   "metadata": {},
   "outputs": [],
   "source": []
  }
 ],
 "metadata": {
  "kernelspec": {
   "display_name": "Python 3",
   "language": "python",
   "name": "python3"
  },
  "language_info": {
   "codemirror_mode": {
    "name": "ipython",
    "version": 3
   },
   "file_extension": ".py",
   "mimetype": "text/x-python",
   "name": "python",
   "nbconvert_exporter": "python",
   "pygments_lexer": "ipython3",
   "version": "3.7.9"
  }
 },
 "nbformat": 4,
 "nbformat_minor": 5
}
