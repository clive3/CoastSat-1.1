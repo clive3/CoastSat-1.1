{
 "cells": [
  {
   "cell_type": "markdown",
   "metadata": {},
   "source": [
    "# EO4SD SHORELINE CHANGE MAPPING AND FORECASTING\n",
    "\n",
    "This code has been modifed by Carpenter (2020) for the project Earth Observation for Sustainable Development. Below demonstrates an example processing workflow for Benin and Togo's Coastline between 2000-2020.\n",
    "\n",
    "This software is based on scripts and code developed by:\n",
    "* Vos K., Splinter K.D., Harley M.D., Simmons J.A., Turner I.L. (2019). CoastSat: a Google Earth Engine-enabled Python toolkit to extract shorelines from publicly available satellite imagery. Environmental Modelling and Software. 122, 104528. https://doi.org/10.1016/j.envsoft.2019.104528\n",
    "\n",
    "It enables the users to extract time-series of shoreline change over the last 20+ years at their site of interest.\n",
    "There are three main steps:\n",
    "1. Retrieval of median composite satellite images of the region of interest from Google Earth Engine\n",
    "2. Shoreline extraction at sub-pixel resolution\n",
    "\n",
    "## Initial settings\n",
    "\n",
    "Refer to the Set-up and Installation section of the User Handbook for instructions on how to install the Python packages necessary to run the software, including Google Earth Engine Python API. See original methodology via https://github.com/kvos/CoastSat"
   ]
  },
  {
   "cell_type": "code",
   "execution_count": 1,
   "metadata": {},
   "outputs": [],
   "source": [
    "import os\n",
    "import numpy as np\n",
    "import pickle\n",
    "import warnings\n",
    "warnings.filterwarnings(\"ignore\")\n",
    "import matplotlib.pyplot as plt\n",
    "from coastsat import NOC_tools, NOC_shoreline, NOC_download, NOC_preprocess,\\\n",
    "    SDS_tools, SDS_shoreline, SDS_download, SDS_preprocess\n",
    "\n",
    "settings ={'output_epsg': 32737,\n",
    "           'reference_shoreline': True,\n",
    "           'max_dist_ref': 100,        # max distance (in meters) allowed from the reference shoreline\n",
    "           'min_length_sl': 500,       # min length (in meters) for shorelines\n",
    "          }"
   ]
  },
  {
   "cell_type": "code",
   "execution_count": 2,
   "metadata": {},
   "outputs": [
    {
     "name": "stdout",
     "output_type": "stream",
     "text": [
      "Processing: Watamu\n"
     ]
    }
   ],
   "source": [
    "# directory where the data will be accessed and stored\n",
    "dataPartition = 'c:\\\\data\\\\coastsat'\n",
    "country = 'kenya'\n",
    "base_filepath = os.path.join(dataPartition, country)  \n",
    "\n",
    "# filepaths etc\n",
    "filepath_sites = os.path.join(base_filepath, 'sites')\n",
    "sites = os.listdir(filepath_sites)\n",
    "\n",
    "sat_name = 'S1'\n",
    "\n",
    "dates = ['2020-01-01', '2020-06-30']\n",
    "\n",
    "for site in sites:\n",
    "\n",
    "    kml_filepath = os.path.join(filepath_sites, site)\n",
    "    kml_polygon = NOC_tools.polygon_from_kml(kml_filepath)\n",
    "    roi_polygon = SDS_tools.smallest_rectangle(kml_polygon)\n",
    "    \n",
    "    sitename = site[:site.find('.')]\n",
    "\n",
    "    inputs = {'polygon': roi_polygon, 'dates': dates, 'sat_list': [sat_name],\n",
    "              'sitename': sitename, 'filepath': base_filepath, 'pixel_size': 10,\n",
    "              'polarisation': 'VH', 'sigma': 5}\n",
    "    \n",
    "    settings['inputs'] = inputs\n",
    "    \n",
    "    print(f'Processing: {sitename}')"
   ]
  },
  {
   "cell_type": "code",
   "execution_count": 3,
   "metadata": {},
   "outputs": [
    {
     "name": "stdout",
     "output_type": "stream",
     "text": [
      "finished ...\n"
     ]
    }
   ],
   "source": [
    "    #metadata = NOC_download.retrieve_median_sar(inputs)\n",
    "    ## load saved metadata\n",
    "    metadata = NOC_download.get_metadata(inputs)\n",
    "    \n",
    "    print('finished ...')"
   ]
  },
  {
   "cell_type": "code",
   "execution_count": 4,
   "metadata": {},
   "outputs": [],
   "source": [
    "    settings['reference_shoreline'] = NOC_preprocess.get_reference_shoreline(inputs)"
   ]
  },
  {
   "cell_type": "code",
   "execution_count": null,
   "metadata": {},
   "outputs": [
    {
     "name": "stdout",
     "output_type": "stream",
     "text": [
      "Mapping shorelines:\n",
      "\r",
      "S1:   100%\n",
      "\n"
     ]
    }
   ],
   "source": [
    "    %matplotlib qt\n",
    "    \n",
    "    ##Batch shoreline detection\n",
    "    output = NOC_shoreline.extract_shorelines_sar(metadata, settings)\n",
    "    \n",
    "    print('finished ...')"
   ]
  },
  {
   "cell_type": "code",
   "execution_count": null,
   "metadata": {},
   "outputs": [],
   "source": [
    "output = SDS_tools.remove_duplicates(output) # removes duplicates (images taken on the same date by the same satellite)\n",
    "output = SDS_tools.remove_inaccurate_georef(output, 10) # remove inaccurate georeferencing (set threshold to 10 m)"
   ]
  },
  {
   "cell_type": "code",
   "execution_count": null,
   "metadata": {},
   "outputs": [],
   "source": [
    "gdf = SDS_tools.output_to_gdf(output, 'lines')\n",
    "\n",
    "satname = output['satname'][0]\n",
    "file_string = f'{sitename}_shorelines_{inputs[\"polarisation\"]}.geojson'\n",
    "\n",
    "if  ~gdf.empty:\n",
    "    gdf.crs = {'init':'epsg:'+str(settings['output_epsg'])} # set layer projection\n",
    "    # save GEOJSON layer to file\n",
    "    gdf.to_file(os.path.join(inputs['filepath'], inputs['sitename'],\n",
    "                             file_string),\n",
    "                             driver='GeoJSON', encoding='utf-8')\n",
    "    print(f'written: {file_string}')\n",
    "else:\n",
    "    print('no shorelines to be seen ...')"
   ]
  }
 ],
 "metadata": {
  "kernelspec": {
   "display_name": "Python 3",
   "language": "python",
   "name": "python3"
  },
  "language_info": {
   "codemirror_mode": {
    "name": "ipython",
    "version": 3
   },
   "file_extension": ".py",
   "mimetype": "text/x-python",
   "name": "python",
   "nbconvert_exporter": "python",
   "pygments_lexer": "ipython3",
   "version": "3.7.9"
  },
  "toc": {
   "base_numbering": 1,
   "nav_menu": {},
   "number_sections": true,
   "sideBar": true,
   "skip_h1_title": false,
   "title_cell": "Table of Contents",
   "title_sidebar": "Contents",
   "toc_cell": false,
   "toc_position": {},
   "toc_section_display": true,
   "toc_window_display": false
  },
  "varInspector": {
   "cols": {
    "lenName": 16,
    "lenType": 16,
    "lenVar": 40
   },
   "kernels_config": {
    "python": {
     "delete_cmd_postfix": "",
     "delete_cmd_prefix": "del ",
     "library": "var_list.py",
     "varRefreshCmd": "print(var_dic_list())"
    },
    "r": {
     "delete_cmd_postfix": ") ",
     "delete_cmd_prefix": "rm(",
     "library": "var_list.r",
     "varRefreshCmd": "cat(var_dic_list()) "
    }
   },
   "types_to_exclude": [
    "module",
    "function",
    "builtin_function_or_method",
    "instance",
    "_Feature"
   ],
   "window_display": false
  }
 },
 "nbformat": 4,
 "nbformat_minor": 2
}
