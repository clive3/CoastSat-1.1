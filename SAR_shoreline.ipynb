{
 "cells": [
  {
   "cell_type": "markdown",
   "metadata": {},
   "source": [
    "# EO4SD SHORELINE CHANGE MAPPING AND FORECASTING\n",
    "\n",
    "This code has been modifed by Carpenter (2020) for the project Earth Observation for Sustainable Development. Below demonstrates an example processing workflow for Benin and Togo's Coastline between 2000-2020.\n",
    "\n",
    "This software is based on scripts and code developed by:\n",
    "* Vos K., Splinter K.D., Harley M.D., Simmons J.A., Turner I.L. (2019). CoastSat: a Google Earth Engine-enabled Python toolkit to extract shorelines from publicly available satellite imagery. Environmental Modelling and Software. 122, 104528. https://doi.org/10.1016/j.envsoft.2019.104528\n",
    "\n",
    "It enables the users to extract time-series of shoreline change over the last 20+ years at their site of interest.\n",
    "There are three main steps:\n",
    "1. Retrieval of median composite satellite images of the region of interest from Google Earth Engine\n",
    "2. Shoreline extraction at sub-pixel resolution\n",
    "\n",
    "## Initial settings\n",
    "\n",
    "Refer to the Set-up and Installation section of the User Handbook for instructions on how to install the Python packages necessary to run the software, including Google Earth Engine Python API. See original methodology via https://github.com/kvos/CoastSat"
   ]
  },
  {
   "cell_type": "code",
   "execution_count": null,
   "metadata": {},
   "outputs": [],
   "source": [
    "import os\n",
    "import numpy as np\n",
    "import pickle\n",
    "import warnings\n",
    "warnings.filterwarnings(\"ignore\")\n",
    "import matplotlib.pyplot as plt\n",
    "from utils.print_utils import printProgress, printWarning, printSuccess\n",
    "from coastsat import NOC_tools, NOC_shoreline, NOC_download, SDS_tools\n",
    "\n",
    "\n",
    "# directory where the data will be accessed and stored\n",
    "data_partition = 'c:\\\\data\\\\coastsat'\n",
    "country = 'UK'\n",
    "base_dir_path = os.path.join(data_partition, country)  \n",
    "sites_dir_path = os.path.join(base_dir_path, 'sites')\n",
    "results_dir_path = os.path.join(base_dir_path, 'results')\n",
    "sites = os.listdir(sites_dir_path)\n",
    "\n",
    "settings = {\n",
    "            'output_epsg': 27700,   \n",
    "            'min_length_shoreline': 500, \n",
    "            \n",
    "            'sat_name': 'S1',\n",
    "            'pixel_size': 10,\n",
    "            'results_dir_path': results_dir_path\n",
    "            }\n",
    "dates = [\n",
    "         ['2016-01-01', '2016-06-30'],\n",
    "         ['2016-07-01', '2016-12-31'],\n",
    "         ['2017-01-01', '2017-06-30'],\n",
    "         ['2017-07-01', '2017-12-31'],\n",
    "         ['2018-01-01', '2018-06-30'],\n",
    "         ['2018-07-01', '2018-12-31'],\n",
    "         ['2019-01-01', '2019-06-30'],\n",
    "         ['2019-07-01', '2019-12-31'],\n",
    "         ['2020-01-01', '2020-06-30'],\n",
    "         ['2020-07-01', '2020-12-31'],\n",
    "                                     ]\n",
    "\n",
    "settings['date_range'] = ['2016-01-01', '2020-12-31']"
   ]
  },
  {
   "cell_type": "markdown",
   "metadata": {},
   "source": [
    "## download SAR data from GEE"
   ]
  },
  {
   "cell_type": "code",
   "execution_count": null,
   "metadata": {},
   "outputs": [],
   "source": [
    "for site in sites:\n",
    "    \n",
    "    kml_filepath = os.path.join(sites_dir_path, site)\n",
    "    kml_polygon = NOC_tools.polygon_from_kml(kml_filepath)\n",
    "    roi_polygon = SDS_tools.smallest_rectangle(kml_polygon)\n",
    "\n",
    "    site_name = site[:site.find('.')]\n",
    "    median_dir_path = os.path.join(base_dir_path, site_name, 'median')\n",
    "    settings['polygon'] = roi_polygon\n",
    "    settings['site_name'] = site_name\n",
    "    settings['median_dir_path'] = median_dir_path\n",
    "        \n",
    "    for date_pair in dates:\n",
    "\n",
    "        settings['dates'] = date_pair \n",
    "        \n",
    "        printProgress(f'processing {site_name}: {date_pair}')\n",
    "        \n",
    "        NOC_download.retrieve_median_sar(settings)\n",
    "        \n",
    "    NOC_download.save_metadata(settings)\n",
    "            \n",
    "print('FINISHED ...')"
   ]
  },
  {
   "cell_type": "markdown",
   "metadata": {},
   "source": [
    "## find reference shoreline"
   ]
  },
  {
   "cell_type": "code",
   "execution_count": null,
   "metadata": {},
   "outputs": [],
   "source": [
    "settings['polarisation'] = 'VH'\n",
    "settings['sigma'] = 4\n",
    "    \n",
    "for site in sites:\n",
    "    \n",
    "    site_name = site[:site.find('.')]\n",
    "    median_dir_path = os.path.join(base_dir_path, site_name, 'median')\n",
    "    settings['site_name'] = site_name\n",
    "    settings['median_dir_path'] = median_dir_path   \n",
    "    \n",
    "    printProgress(f'processing {site_name}')\n",
    "\n",
    "    %matplotlib qt\n",
    "    NOC_shoreline.find_reference_shoreline(settings)\n",
    "            \n",
    "print('FINISHED ...')"
   ]
  },
  {
   "cell_type": "markdown",
   "metadata": {},
   "source": [
    "## extract shorelines"
   ]
  },
  {
   "cell_type": "code",
   "execution_count": null,
   "metadata": {},
   "outputs": [],
   "source": [
    "settings['reference_threshold'] = -24.0\n",
    "settings['polarisation'] = 'VH'\n",
    "settings['max_dist_ref'] = 150\n",
    "\n",
    "for site in sites:\n",
    "    \n",
    "    site_name = site[:site.find('.')]\n",
    "    median_dir_path = os.path.join(base_dir_path, site_name, 'median')\n",
    "    settings['site_name'] = site_name\n",
    "    settings['median_dir_path'] = median_dir_path \n",
    "    NOC_shoreline.load_reference_shoreline(settings)\n",
    "        \n",
    "    for date_pair in dates:\n",
    "\n",
    "        settings['dates'] = date_pair \n",
    "        \n",
    "        printProgress(f'processing {site_name}: {date_pair}')\n",
    "\n",
    "        %matplotlib qt\n",
    "        NOC_shoreline.extract_shoreline_sar(settings, batch=False)\n",
    "        \n",
    "print('FINISHED ...')"
   ]
  },
  {
   "cell_type": "code",
   "execution_count": null,
   "metadata": {},
   "outputs": [],
   "source": []
  }
 ],
 "metadata": {
  "kernelspec": {
   "display_name": "Python 3",
   "language": "python",
   "name": "python3"
  },
  "language_info": {
   "codemirror_mode": {
    "name": "ipython",
    "version": 3
   },
   "file_extension": ".py",
   "mimetype": "text/x-python",
   "name": "python",
   "nbconvert_exporter": "python",
   "pygments_lexer": "ipython3",
   "version": "3.7.9"
  },
  "toc": {
   "base_numbering": 1,
   "nav_menu": {},
   "number_sections": true,
   "sideBar": true,
   "skip_h1_title": false,
   "title_cell": "Table of Contents",
   "title_sidebar": "Contents",
   "toc_cell": false,
   "toc_position": {},
   "toc_section_display": true,
   "toc_window_display": false
  },
  "varInspector": {
   "cols": {
    "lenName": 16,
    "lenType": 16,
    "lenVar": 40
   },
   "kernels_config": {
    "python": {
     "delete_cmd_postfix": "",
     "delete_cmd_prefix": "del ",
     "library": "var_list.py",
     "varRefreshCmd": "print(var_dic_list())"
    },
    "r": {
     "delete_cmd_postfix": ") ",
     "delete_cmd_prefix": "rm(",
     "library": "var_list.r",
     "varRefreshCmd": "cat(var_dic_list()) "
    }
   },
   "types_to_exclude": [
    "module",
    "function",
    "builtin_function_or_method",
    "instance",
    "_Feature"
   ],
   "window_display": false
  }
 },
 "nbformat": 4,
 "nbformat_minor": 2
}
